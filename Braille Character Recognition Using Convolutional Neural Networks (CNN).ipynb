{
 "cells": [
  {
   "cell_type": "code",
   "execution_count": 1,
   "id": "0a5f1251-bce8-4873-98ec-7c1b5d670b2c",
   "metadata": {},
   "outputs": [],
   "source": [
    "import pandas as pd\n",
    "import numpy as np\n",
    "import os\n",
    "import zipfile\n",
    "from pathlib import Path\n",
    "import cv2"
   ]
  },
  {
   "cell_type": "code",
   "execution_count": 5,
   "id": "e27b282f-eb49-439c-9644-f53131661bdf",
   "metadata": {},
   "outputs": [],
   "source": [
    "# Paths\n",
    "zip_file_path = r\"C:\\Users\\shree\\Downloads\\archive (13).zip\"\n",
    "extracted_path = r\"/content/braille_dataset\"\n",
    "\n",
    "# Unzip the dataset\n",
    "with zipfile.ZipFile(zip_file_path, 'r') as zip_ref:\n",
    "    zip_ref.extractall(extracted_path)"
   ]
  },
  {
   "cell_type": "code",
   "execution_count": 6,
   "id": "faf62e83-d76a-4ea2-a1df-83a9bea32656",
   "metadata": {},
   "outputs": [
    {
     "name": "stdout",
     "output_type": "stream",
     "text": [
      "Total images: 1560\n"
     ]
    }
   ],
   "source": [
    "# Load images\n",
    "image_dir = Path('/content/braille_dataset/Braille Dataset/Braille Dataset')\n",
    "dir_list = list(image_dir.glob('*.jpg'))\n",
    "image_count = len(dir_list)\n",
    "print(f\"Total images: {image_count}\")"
   ]
  },
  {
   "cell_type": "code",
   "execution_count": 7,
   "id": "bf433553-f658-487f-9aad-fe4249b2f82a",
   "metadata": {},
   "outputs": [],
   "source": [
    "# Read images and store in a list\n",
    "images = []\n",
    "name_list = []\n",
    "for file_path in dir_list:\n",
    "    I = cv2.imread(str(file_path))\n",
    "    images.append(I)\n",
    "    # Extracting label from the filename\n",
    "    name_list.append(os.path.basename(file_path)[0])"
   ]
  },
  {
   "cell_type": "code",
   "execution_count": 8,
   "id": "7ddb1862-cabf-450b-9ed2-3f169eb6c1c1",
   "metadata": {},
   "outputs": [
    {
     "name": "stdout",
     "output_type": "stream",
     "text": [
      "[[[0.76078431 0.76078431 0.76078431]\n",
      "  [0.8        0.8        0.8       ]\n",
      "  [0.80784314 0.80784314 0.80784314]\n",
      "  ...\n",
      "  [0.76862745 0.76862745 0.76862745]\n",
      "  [0.76862745 0.76862745 0.76862745]\n",
      "  [0.76862745 0.76862745 0.76862745]]\n",
      "\n",
      " [[0.75686275 0.75686275 0.75686275]\n",
      "  [0.69411765 0.69411765 0.69411765]\n",
      "  [0.7372549  0.7372549  0.7372549 ]\n",
      "  ...\n",
      "  [0.76862745 0.76862745 0.76862745]\n",
      "  [0.76862745 0.76862745 0.76862745]\n",
      "  [0.76862745 0.76862745 0.76862745]]\n",
      "\n",
      " [[0.78039216 0.78039216 0.78039216]\n",
      "  [0.79607843 0.79607843 0.79607843]\n",
      "  [0.76470588 0.76470588 0.76470588]\n",
      "  ...\n",
      "  [0.76862745 0.76862745 0.76862745]\n",
      "  [0.76862745 0.76862745 0.76862745]\n",
      "  [0.76862745 0.76862745 0.76862745]]\n",
      "\n",
      " ...\n",
      "\n",
      " [[0.76862745 0.76862745 0.76862745]\n",
      "  [0.77254902 0.77254902 0.77254902]\n",
      "  [0.76470588 0.76470588 0.76470588]\n",
      "  ...\n",
      "  [0.76862745 0.76862745 0.76862745]\n",
      "  [0.76862745 0.76862745 0.76862745]\n",
      "  [0.76862745 0.76862745 0.76862745]]\n",
      "\n",
      " [[0.77254902 0.77254902 0.77254902]\n",
      "  [0.77647059 0.77647059 0.77647059]\n",
      "  [0.77647059 0.77647059 0.77647059]\n",
      "  ...\n",
      "  [0.76862745 0.76862745 0.76862745]\n",
      "  [0.76862745 0.76862745 0.76862745]\n",
      "  [0.76862745 0.76862745 0.76862745]]\n",
      "\n",
      " [[0.76078431 0.76078431 0.76078431]\n",
      "  [0.76862745 0.76862745 0.76862745]\n",
      "  [0.77254902 0.77254902 0.77254902]\n",
      "  ...\n",
      "  [0.76862745 0.76862745 0.76862745]\n",
      "  [0.76862745 0.76862745 0.76862745]\n",
      "  [0.76862745 0.76862745 0.76862745]]]\n"
     ]
    }
   ],
   "source": [
    "# Convert images and labels to numpy arrays\n",
    "images_list = np.array(images)\n",
    "name_list = np.array(name_list).T\n",
    "\n",
    "# Normalize images\n",
    "images_list = images_list / 255.0\n",
    "print(images_list[0])"
   ]
  },
  {
   "cell_type": "code",
   "execution_count": 9,
   "id": "5f4e2184-e934-4b6c-8770-471a81bfd5f2",
   "metadata": {},
   "outputs": [],
   "source": [
    "from sklearn.preprocessing import LabelEncoder\n",
    "from sklearn.model_selection import train_test_split\n",
    "\n",
    "# Encode labels (character labels into numeric values)\n",
    "le = LabelEncoder()\n",
    "name_list = le.fit_transform(name_list)\n",
    "\n",
    "# Split data into training and testing sets (80% training, 20% testing)\n",
    "X_train, X_test, y_train, y_test = train_test_split(images_list, name_list, test_size=0.2, random_state=42)\n",
    "\n",
    "# Defining class names for characters a to z\n",
    "class_names = ['a', 'b', 'c', 'd', 'e', 'f', 'g', 'h', 'i', 'j', 'k', 'l', 'm', 'n', 'o', 'p', 'q', 'r', 's', 't', 'u', 'v', 'w', 'x', 'y', 'z']"
   ]
  },
  {
   "cell_type": "code",
   "execution_count": 10,
   "id": "b25d218a-d565-4587-8f6b-d706ab9ba962",
   "metadata": {},
   "outputs": [
    {
     "name": "stderr",
     "output_type": "stream",
     "text": [
      "C:\\Users\\shree\\anaconda3\\Lib\\site-packages\\keras\\src\\layers\\convolutional\\base_conv.py:107: UserWarning: Do not pass an `input_shape`/`input_dim` argument to a layer. When using Sequential models, prefer using an `Input(shape)` object as the first layer in the model instead.\n",
      "  super().__init__(activity_regularizer=activity_regularizer, **kwargs)\n"
     ]
    }
   ],
   "source": [
    "import tensorflow as tf\n",
    "from tensorflow import keras\n",
    "\n",
    "# Define the CNN model with 3 Conv2D layers followed by MaxPooling, BatchNormalization, and Dense layers\n",
    "model = keras.Sequential([\n",
    "    keras.layers.Conv2D(filters=64, kernel_size=(3,3), padding='same', activation='relu', input_shape=(28,28,3)),\n",
    "    keras.layers.MaxPooling2D(pool_size=(2,2)),\n",
    "    keras.layers.BatchNormalization(),\n",
    "    \n",
    "    keras.layers.Conv2D(filters=128, kernel_size=(3,3), padding='same', activation='relu'),\n",
    "    keras.layers.MaxPooling2D(pool_size=(2,2)),\n",
    "    keras.layers.BatchNormalization(),\n",
    "    \n",
    "    keras.layers.Conv2D(filters=256, kernel_size=(3,3), padding='same', activation='relu'),\n",
    "    keras.layers.MaxPooling2D(pool_size=(2,2)),\n",
    "    keras.layers.BatchNormalization(),\n",
    "    \n",
    "    keras.layers.Flatten(),\n",
    "    keras.layers.Dense(units=512, activation=\"relu\"),\n",
    "    keras.layers.Dropout(0.5),\n",
    "    keras.layers.Dense(units=26, activation=\"softmax\")\n",
    "])"
   ]
  },
  {
   "cell_type": "code",
   "execution_count": null,
   "id": "5b2d06b9-01f4-461b-90d4-847624e4fed9",
   "metadata": {},
   "outputs": [
    {
     "name": "stdout",
     "output_type": "stream",
     "text": [
      "Epoch 1/20\n",
      "\u001b[1m28/28\u001b[0m \u001b[32m━━━━━━━━━━━━━━━━━━━━\u001b[0m\u001b[37m\u001b[0m \u001b[1m8s\u001b[0m 96ms/step - loss: 3.8214 - sparse_categorical_accuracy: 0.2198 - val_loss: 3.4312 - val_sparse_categorical_accuracy: 0.0427\n",
      "Epoch 2/20\n",
      "\u001b[1m28/28\u001b[0m \u001b[32m━━━━━━━━━━━━━━━━━━━━\u001b[0m\u001b[37m\u001b[0m \u001b[1m3s\u001b[0m 87ms/step - loss: 1.4683 - sparse_categorical_accuracy: 0.5981 - val_loss: 4.9099 - val_sparse_categorical_accuracy: 0.0427\n",
      "Epoch 3/20\n",
      "\u001b[1m28/28\u001b[0m \u001b[32m━━━━━━━━━━━━━━━━━━━━\u001b[0m\u001b[37m\u001b[0m \u001b[1m3s\u001b[0m 93ms/step - loss: 0.8186 - sparse_categorical_accuracy: 0.7581 - val_loss: 6.8225 - val_sparse_categorical_accuracy: 0.0427\n",
      "Epoch 4/20\n",
      "\u001b[1m28/28\u001b[0m \u001b[32m━━━━━━━━━━━━━━━━━━━━\u001b[0m\u001b[37m\u001b[0m \u001b[1m2s\u001b[0m 85ms/step - loss: 0.5876 - sparse_categorical_accuracy: 0.8275 - val_loss: 10.5641 - val_sparse_categorical_accuracy: 0.0427\n",
      "Epoch 5/20\n",
      "\u001b[1m28/28\u001b[0m \u001b[32m━━━━━━━━━━━━━━━━━━━━\u001b[0m\u001b[37m\u001b[0m \u001b[1m3s\u001b[0m 95ms/step - loss: 0.4056 - sparse_categorical_accuracy: 0.8710 - val_loss: 10.2743 - val_sparse_categorical_accuracy: 0.0427\n",
      "Epoch 6/20\n",
      "\u001b[1m28/28\u001b[0m \u001b[32m━━━━━━━━━━━━━━━━━━━━\u001b[0m\u001b[37m\u001b[0m \u001b[1m5s\u001b[0m 92ms/step - loss: 0.3035 - sparse_categorical_accuracy: 0.9085 - val_loss: 12.0764 - val_sparse_categorical_accuracy: 0.0427\n",
      "Epoch 7/20\n",
      "\u001b[1m28/28\u001b[0m \u001b[32m━━━━━━━━━━━━━━━━━━━━\u001b[0m\u001b[37m\u001b[0m \u001b[1m3s\u001b[0m 89ms/step - loss: 0.2656 - sparse_categorical_accuracy: 0.9182 - val_loss: 14.2077 - val_sparse_categorical_accuracy: 0.0427\n",
      "Epoch 8/20\n",
      "\u001b[1m28/28\u001b[0m \u001b[32m━━━━━━━━━━━━━━━━━━━━\u001b[0m\u001b[37m\u001b[0m \u001b[1m2s\u001b[0m 75ms/step - loss: 0.2876 - sparse_categorical_accuracy: 0.9280 - val_loss: 15.7976 - val_sparse_categorical_accuracy: 0.0427\n",
      "Epoch 9/20\n",
      "\u001b[1m28/28\u001b[0m \u001b[32m━━━━━━━━━━━━━━━━━━━━\u001b[0m\u001b[37m\u001b[0m \u001b[1m2s\u001b[0m 75ms/step - loss: 0.1271 - sparse_categorical_accuracy: 0.9627 - val_loss: 16.1734 - val_sparse_categorical_accuracy: 0.0427\n",
      "Epoch 10/20\n",
      "\u001b[1m28/28\u001b[0m \u001b[32m━━━━━━━━━━━━━━━━━━━━\u001b[0m\u001b[37m\u001b[0m \u001b[1m2s\u001b[0m 77ms/step - loss: 0.1158 - sparse_categorical_accuracy: 0.9674 - val_loss: 14.5864 - val_sparse_categorical_accuracy: 0.0427\n",
      "Epoch 11/20\n",
      "\u001b[1m28/28\u001b[0m \u001b[32m━━━━━━━━━━━━━━━━━━━━\u001b[0m\u001b[37m\u001b[0m \u001b[1m2s\u001b[0m 81ms/step - loss: 0.1087 - sparse_categorical_accuracy: 0.9708 - val_loss: 16.4465 - val_sparse_categorical_accuracy: 0.0427\n",
      "Epoch 12/20\n",
      "\u001b[1m28/28\u001b[0m \u001b[32m━━━━━━━━━━━━━━━━━━━━\u001b[0m\u001b[37m\u001b[0m \u001b[1m3s\u001b[0m 114ms/step - loss: 0.0977 - sparse_categorical_accuracy: 0.9806 - val_loss: 15.0688 - val_sparse_categorical_accuracy: 0.0427\n",
      "Epoch 13/20\n",
      "\u001b[1m28/28\u001b[0m \u001b[32m━━━━━━━━━━━━━━━━━━━━\u001b[0m\u001b[37m\u001b[0m \u001b[1m4s\u001b[0m 86ms/step - loss: 0.0446 - sparse_categorical_accuracy: 0.9894 - val_loss: 15.2437 - val_sparse_categorical_accuracy: 0.0427\n",
      "Epoch 14/20\n",
      "\u001b[1m28/28\u001b[0m \u001b[32m━━━━━━━━━━━━━━━━━━━━\u001b[0m\u001b[37m\u001b[0m \u001b[1m3s\u001b[0m 109ms/step - loss: 0.0502 - sparse_categorical_accuracy: 0.9874 - val_loss: 14.4696 - val_sparse_categorical_accuracy: 0.0427\n",
      "Epoch 15/20\n",
      "\u001b[1m28/28\u001b[0m \u001b[32m━━━━━━━━━━━━━━━━━━━━\u001b[0m\u001b[37m\u001b[0m \u001b[1m5s\u001b[0m 116ms/step - loss: 0.0526 - sparse_categorical_accuracy: 0.9857 - val_loss: 12.2971 - val_sparse_categorical_accuracy: 0.0453\n",
      "Epoch 16/20\n",
      "\u001b[1m28/28\u001b[0m \u001b[32m━━━━━━━━━━━━━━━━━━━━\u001b[0m\u001b[37m\u001b[0m \u001b[1m3s\u001b[0m 95ms/step - loss: 0.0645 - sparse_categorical_accuracy: 0.9853 - val_loss: 10.2536 - val_sparse_categorical_accuracy: 0.0587\n",
      "Epoch 17/20\n",
      "\u001b[1m28/28\u001b[0m \u001b[32m━━━━━━━━━━━━━━━━━━━━\u001b[0m\u001b[37m\u001b[0m \u001b[1m3s\u001b[0m 90ms/step - loss: 0.0838 - sparse_categorical_accuracy: 0.9749 - val_loss: 9.9316 - val_sparse_categorical_accuracy: 0.0640\n",
      "Epoch 18/20\n",
      "\u001b[1m28/28\u001b[0m \u001b[32m━━━━━━━━━━━━━━━━━━━━\u001b[0m\u001b[37m\u001b[0m \u001b[1m3s\u001b[0m 99ms/step - loss: 0.0511 - sparse_categorical_accuracy: 0.9877 - val_loss: 5.1977 - val_sparse_categorical_accuracy: 0.2160\n",
      "Epoch 19/20\n",
      "\u001b[1m25/28\u001b[0m \u001b[32m━━━━━━━━━━━━━━━━━\u001b[0m\u001b[37m━━━\u001b[0m \u001b[1m0s\u001b[0m 82ms/step - loss: 0.0582 - sparse_categorical_accuracy: 0.9798"
     ]
    }
   ],
   "source": [
    "# Compile the model with Adam optimizer, Sparse Categorical Crossentropy loss, and accuracy metric\n",
    "model.compile(optimizer=\"Adam\", loss=\"SparseCategoricalCrossentropy\", metrics=[\"sparse_categorical_accuracy\"])\n",
    "\n",
    "# Train the model with 20 epochs, using 30% of training data for validation\n",
    "history = model.fit(x=X_train, y=y_train, epochs=20, validation_split=0.3)"
   ]
  },
  {
   "cell_type": "code",
   "execution_count": null,
   "id": "ea309b6b-0250-4dd3-a895-74671f847cdd",
   "metadata": {},
   "outputs": [],
   "source": [
    "# Print model summary\n",
    "model.summary()"
   ]
  },
  {
   "cell_type": "code",
   "execution_count": null,
   "id": "13ab9f61-9471-45c7-8fc2-e713ebda3c19",
   "metadata": {},
   "outputs": [],
   "source": [
    "import seaborn as sns\n",
    "import matplotlib.pyplot as plt\n",
    "import numpy as np\n",
    "\n",
    "# Plot training and validation loss over epochs\n",
    "time = np.arange(1, len(history.history['loss'])+1)\n",
    "\n",
    "# Loss plot\n",
    "sns.lineplot(data=history.history, x=time, y='loss')\n",
    "sns.lineplot(data=history.history, x=time, y='val_loss')\n",
    "plt.title('Loss fitting history')\n",
    "plt.legend(labels=['Loss', 'Validation loss'])\n",
    "plt.show()\n",
    "\n",
    "# Accuracy plot\n",
    "sns.lineplot(data=history.history, x=time, y='sparse_categorical_accuracy')\n",
    "sns.lineplot(data=history.history, x=time, y='val_sparse_categorical_accuracy')\n",
    "plt.title('Accuracy fitting history')\n",
    "plt.legend(labels=['Accuracy', 'Validation accuracy'])\n",
    "plt.show()"
   ]
  },
  {
   "cell_type": "code",
   "execution_count": null,
   "id": "12248cd7-24a8-41b4-847d-4a4828d2bcb4",
   "metadata": {},
   "outputs": [],
   "source": [
    "# Evaluate the model on the test set\n",
    "test_loss, test_acc = model.evaluate(X_test, y_test)\n",
    "print('Test Loss:', test_loss)\n",
    "print('Test Accuracy:', test_acc)"
   ]
  },
  {
   "cell_type": "code",
   "execution_count": null,
   "id": "e6938775-5e57-4369-b980-b11864cbd592",
   "metadata": {},
   "outputs": [],
   "source": [
    "from random import randrange\n",
    "\n",
    "# Select a random image from the test set\n",
    "index_image = randrange(len(X_test))\n",
    "\n",
    "# Make a prediction\n",
    "prediction_scores = model.predict(np.expand_dims(X_test[index_image], axis=0))\n",
    "predicted_index = np.argmax(prediction_scores)\n",
    "\n",
    "# Display the image and predicted label\n",
    "plt.imshow(X_test[index_image])\n",
    "plt.title(f\"Predicted label: {class_names[predicted_index]}\")\n",
    "plt.show()\n",
    "\n",
    "# Print prediction confidence\n",
    "print(\"Prediction scores:\", prediction_scores)\n",
    "print(\"Predicted label:\", class_names[predicted_index])"
   ]
  }
 ],
 "metadata": {
  "kernelspec": {
   "display_name": "Python 3 (ipykernel)",
   "language": "python",
   "name": "python3"
  },
  "language_info": {
   "codemirror_mode": {
    "name": "ipython",
    "version": 3
   },
   "file_extension": ".py",
   "mimetype": "text/x-python",
   "name": "python",
   "nbconvert_exporter": "python",
   "pygments_lexer": "ipython3",
   "version": "3.11.7"
  }
 },
 "nbformat": 4,
 "nbformat_minor": 5
}
